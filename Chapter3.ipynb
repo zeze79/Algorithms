{
 "cells": [
  {
   "cell_type": "markdown",
   "metadata": {},
   "source": [
    "## Chapter 3 Greedy"
   ]
  },
  {
   "cell_type": "code",
   "execution_count": 1,
   "metadata": {},
   "outputs": [
    {
     "name": "stdout",
     "output_type": "stream",
     "text": [
      "2 2\n",
      "2 2 2\n",
      "2 2 2\n",
      "2\n"
     ]
    }
   ],
   "source": [
    "n,m = map(int,input().split())\n",
    "ls =[]\n",
    "for i in range(n):\n",
    "    ls.append(list(map(int,input().split())))\n",
    "\n",
    "result = []\n",
    "for i in ls:\n",
    "    i = sorted(i)\n",
    "    result.append(i[0])\n",
    "result.sort()\n",
    "answer = result[-1]\n",
    "print(answer)"
   ]
  },
  {
   "cell_type": "code",
   "execution_count": null,
   "metadata": {},
   "outputs": [],
   "source": [
    "n,m=map(int, input().split())\n",
    "result=0\n",
    "for i in range(n):\n",
    "    data = list(map(int, input().split()))\n",
    "    minvalue=min(data) \n",
    "    result=max(result, minvalue)\n",
    "    \n",
    "print(result)#최종답안출력"
   ]
  },
  {
   "cell_type": "code",
   "execution_count": null,
   "metadata": {},
   "outputs": [],
   "source": [
    "n,k = map(int,input().split())\n",
    "result = 0\n",
    "while n > 1:\n",
    "    if n % k == 0:\n",
    "        n //= k\n",
    "        result += 1\n",
    "    else:\n",
    "        n -= 1\n",
    "        result += 1\n",
    "print(n,k,result)"
   ]
  }
 ],
 "metadata": {
  "kernelspec": {
   "display_name": "aiffel",
   "language": "python",
   "name": "aiffel"
  },
  "language_info": {
   "codemirror_mode": {
    "name": "ipython",
    "version": 3
   },
   "file_extension": ".py",
   "mimetype": "text/x-python",
   "name": "python",
   "nbconvert_exporter": "python",
   "pygments_lexer": "ipython3",
   "version": "3.7.0"
  }
 },
 "nbformat": 4,
 "nbformat_minor": 4
}
