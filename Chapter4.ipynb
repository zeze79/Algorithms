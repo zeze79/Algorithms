{
 "cells": [
  {
   "cell_type": "code",
   "execution_count": null,
   "metadata": {},
   "outputs": [],
   "source": [
    "n = int(input())\n",
    "commands = list(input().split())\n",
    "x,y = 1,1\n",
    "\n",
    "move_types = ['L','R','U','D']\n",
    "dy = [-1,1,0,0]\n",
    "dx = [0,0,-1,1]\n",
    "\n",
    "nx,ny = 0 ,0\n",
    "\n",
    "for command in commands:\n",
    "  for i in range(len(move_types)): # range(move_types) 포인뚜\n",
    "    if command == move_types[i]:\n",
    "      nx = x + dx[i]\n",
    "      ny = y + dy[i]\n",
    "      if nx < 1 or nx > n or ny < 1 or ny > n :\n",
    "        continue\n",
    "     # else: 이거 \n",
    "      x,y = nx,ny\n",
    "print(x,y)"
   ]
  },
  {
   "cell_type": "code",
   "execution_count": null,
   "metadata": {},
   "outputs": [],
   "source": [
    "n = int(input())\n",
    "count = 0\n",
    "for i in range(n+1):\n",
    "  for j in range(60):\n",
    "    for k in range(60):\n",
    "      if '3' in str(i)+str(j)+str(k):\n",
    "        count += 1\n",
    "print(count)"
   ]
  },
  {
   "cell_type": "code",
   "execution_count": null,
   "metadata": {},
   "outputs": [],
   "source": [
    "ord('a') # ord!!!!!알아두기 꼭"
   ]
  },
  {
   "cell_type": "code",
   "execution_count": null,
   "metadata": {},
   "outputs": [],
   "source": [
    "input_data = input()\n",
    "row = int(input_data[1])\n",
    "column = int(ord(input_data[0]))-int(ord('a'))+1\n",
    "steps = [(-2,-1),(-2,1),(2,1),(2,-1),(-1,-2),(-1,2),(1,2),(1,-2)]\n",
    "\n",
    "count = 0\n",
    "\n",
    "for step in steps:\n",
    "  next_row = row + step[0]\n",
    "  next_column = column + step[1]\n",
    "  if next_row < 1 or next_row > 8 or next_column < 1 or next_column > 8:\n",
    "    continue\n",
    "  count += 1\n",
    "\n",
    "print(count)"
   ]
  },
  {
   "cell_type": "code",
   "execution_count": 3,
   "metadata": {},
   "outputs": [
    {
     "name": "stdout",
     "output_type": "stream",
     "text": [
      "4 4\n",
      "1 1 0\n",
      "1 1 1 1\n",
      "1 0 0 1\n",
      "1 1 0 1\n",
      "1 1 1 1\n",
      "3\n"
     ]
    }
   ],
   "source": [
    "n,m = map(int,input().split())\n",
    "x,y,direction = map(int,input().split())\n",
    "maps = []\n",
    "\n",
    "direction_types = [0,1,2,3]\n",
    "dx = [0,-1,0,1]\n",
    "dy = [-1,0,1,0]\n",
    "\n",
    "#     북\n",
    "# 동      서\n",
    "#     남\n",
    "\n",
    "for n in range(n):\n",
    "  maps.append(list(map(int,input().split())))\n",
    "\n",
    "def turn_left():\n",
    "  global direction # 중요!!!!!!\n",
    "  # if 0 <= direction <= 2:\n",
    "  #   direction -= 1\n",
    "  # else:\n",
    "  #   direction = 0\n",
    "  direction -= 1\n",
    "  if direction == -1:\n",
    "    direction = 3\n",
    "\n",
    "check = [[0]*m for _ in range(n)]\n",
    "check[x][y] = 1\n",
    "\n",
    "count = 1 # 처음에 서있는 칸때문에 1로 초기화\n",
    "nx,ny = 0,0\n",
    "turn_time = 0 # 4방향 트레킹 방법???\n",
    "while True:\n",
    "  turn_left()\n",
    "  nx = x + dx[direction]\n",
    "  ny = y + dy[direction]\n",
    "  if maps[nx][ny] == 0 and check[nx][ny] == 0:\n",
    "    x = nx\n",
    "    y = ny\n",
    "    check[x][y] = 1\n",
    "    count += 1\n",
    "    turn_time = 0\n",
    "    continue\n",
    "  else:\n",
    "    turn_time += 1 # turn_time 뭐꼬\n",
    "  if turn_time == 4:\n",
    "    nx = x - dx[direction]\n",
    "    ny = y - dy[direction]\n",
    "    if check[nx][ny] == 0:\n",
    "      x = nx\n",
    "      y = ny\n",
    "    else:\n",
    "      break;\n",
    "    turn_time = 0\n",
    "\n",
    "print(count)"
   ]
  },
  {
   "cell_type": "code",
   "execution_count": null,
   "metadata": {},
   "outputs": [],
   "source": []
  }
 ],
 "metadata": {
  "kernelspec": {
   "display_name": "aiffel",
   "language": "python",
   "name": "aiffel"
  },
  "language_info": {
   "codemirror_mode": {
    "name": "ipython",
    "version": 3
   },
   "file_extension": ".py",
   "mimetype": "text/x-python",
   "name": "python",
   "nbconvert_exporter": "python",
   "pygments_lexer": "ipython3",
   "version": "3.7.0"
  }
 },
 "nbformat": 4,
 "nbformat_minor": 4
}
